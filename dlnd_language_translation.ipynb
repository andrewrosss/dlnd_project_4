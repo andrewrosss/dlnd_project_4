{
 "cells": [
  {
   "cell_type": "markdown",
   "metadata": {
    "collapsed": true
   },
   "source": [
    "# Language Translation\n",
    "In this project, you’re going to take a peek into the realm of neural network machine translation.  You’ll be training a sequence to sequence model on a dataset of English and French sentences that can translate new sentences from English to French.\n",
    "## Get the Data\n",
    "Since translating the whole language of English to French will take lots of time to train, we have provided you with a small portion of the English corpus."
   ]
  },
  {
   "cell_type": "code",
   "execution_count": 1,
   "metadata": {
    "collapsed": true
   },
   "outputs": [],
   "source": [
    "\"\"\"\n",
    "DON'T MODIFY ANYTHING IN THIS CELL\n",
    "\"\"\"\n",
    "import helper\n",
    "import problem_unittests as tests\n",
    "\n",
    "source_path = 'data/small_vocab_en'\n",
    "target_path = 'data/small_vocab_fr'\n",
    "source_text = helper.load_data(source_path)\n",
    "target_text = helper.load_data(target_path)"
   ]
  },
  {
   "cell_type": "markdown",
   "metadata": {},
   "source": [
    "## Explore the Data\n",
    "Play around with view_sentence_range to view different parts of the data."
   ]
  },
  {
   "cell_type": "code",
   "execution_count": 2,
   "metadata": {},
   "outputs": [
    {
     "name": "stdout",
     "output_type": "stream",
     "text": [
      "Dataset Stats\n",
      "Roughly the number of unique words: 227\n",
      "Number of sentences: 137861\n",
      "Average number of words in a sentence: 13.225277634719028\n",
      "\n",
      "English sentences 0 to 10:\n",
      "new jersey is sometimes quiet during autumn , and it is snowy in april .\n",
      "the united states is usually chilly during july , and it is usually freezing in november .\n",
      "california is usually quiet during march , and it is usually hot in june .\n",
      "the united states is sometimes mild during june , and it is cold in september .\n",
      "your least liked fruit is the grape , but my least liked is the apple .\n",
      "his favorite fruit is the orange , but my favorite is the grape .\n",
      "paris is relaxing during december , but it is usually chilly in july .\n",
      "new jersey is busy during spring , and it is never hot in march .\n",
      "our least liked fruit is the lemon , but my least liked is the grape .\n",
      "the united states is sometimes busy during january , and it is sometimes warm in november .\n",
      "\n",
      "French sentences 0 to 10:\n",
      "new jersey est parfois calme pendant l' automne , et il est neigeux en avril .\n",
      "les états-unis est généralement froid en juillet , et il gèle habituellement en novembre .\n",
      "california est généralement calme en mars , et il est généralement chaud en juin .\n",
      "les états-unis est parfois légère en juin , et il fait froid en septembre .\n",
      "votre moins aimé fruit est le raisin , mais mon moins aimé est la pomme .\n",
      "son fruit préféré est l'orange , mais mon préféré est le raisin .\n",
      "paris est relaxant en décembre , mais il est généralement froid en juillet .\n",
      "new jersey est occupé au printemps , et il est jamais chaude en mars .\n",
      "notre fruit est moins aimé le citron , mais mon moins aimé est le raisin .\n",
      "les états-unis est parfois occupé en janvier , et il est parfois chaud en novembre .\n"
     ]
    }
   ],
   "source": [
    "view_sentence_range = (0, 10)\n",
    "\n",
    "\"\"\"\n",
    "DON'T MODIFY ANYTHING IN THIS CELL\n",
    "\"\"\"\n",
    "import numpy as np\n",
    "\n",
    "print('Dataset Stats')\n",
    "print('Roughly the number of unique words: {}'.format(len({word: None for word in source_text.split()})))\n",
    "\n",
    "sentences = source_text.split('\\n')\n",
    "word_counts = [len(sentence.split()) for sentence in sentences]\n",
    "print('Number of sentences: {}'.format(len(sentences)))\n",
    "print('Average number of words in a sentence: {}'.format(np.average(word_counts)))\n",
    "\n",
    "print()\n",
    "print('English sentences {} to {}:'.format(*view_sentence_range))\n",
    "print('\\n'.join(source_text.split('\\n')[view_sentence_range[0]:view_sentence_range[1]]))\n",
    "print()\n",
    "print('French sentences {} to {}:'.format(*view_sentence_range))\n",
    "print('\\n'.join(target_text.split('\\n')[view_sentence_range[0]:view_sentence_range[1]]))"
   ]
  },
  {
   "cell_type": "markdown",
   "metadata": {},
   "source": [
    "## Implement Preprocessing Function\n",
    "### Text to Word Ids\n",
    "As you did with other RNNs, you must turn the text into a number so the computer can understand it. In the function `text_to_ids()`, you'll turn `source_text` and `target_text` from words to ids.  However, you need to add the `<EOS>` word id at the end of `target_text`.  This will help the neural network predict when the sentence should end.\n",
    "\n",
    "You can get the `<EOS>` word id by doing:\n",
    "```python\n",
    "target_vocab_to_int['<EOS>']\n",
    "```\n",
    "You can get other word ids using `source_vocab_to_int` and `target_vocab_to_int`."
   ]
  },
  {
   "cell_type": "code",
   "execution_count": 3,
   "metadata": {},
   "outputs": [
    {
     "name": "stdout",
     "output_type": "stream",
     "text": [
      "Tests Passed\n"
     ]
    }
   ],
   "source": [
    "def text_to_ids(source_text, target_text, source_vocab_to_int, target_vocab_to_int):\n",
    "    \"\"\"\n",
    "    Convert source and target text to proper word ids\n",
    "    :param source_text: String that contains all the source text.\n",
    "    :param target_text: String that contains all the target text.\n",
    "    :param source_vocab_to_int: Dictionary to go from the source words to an id\n",
    "    :param target_vocab_to_int: Dictionary to go from the target words to an id\n",
    "    :return: A tuple of lists (source_id_text, target_id_text)\n",
    "    \"\"\"\n",
    "    source_id_text = [[source_vocab_to_int[word] for word in line.split()] for line in source_text.split('\\n')]\n",
    "    target_id_text = [[target_vocab_to_int[word] for word in line.split()] + [target_vocab_to_int['<EOS>']] for line in target_text.split('\\n')]\n",
    "    return source_id_text, target_id_text\n",
    "\n",
    "\"\"\"\n",
    "DON'T MODIFY ANYTHING IN THIS CELL THAT IS BELOW THIS LINE\n",
    "\"\"\"\n",
    "tests.test_text_to_ids(text_to_ids)"
   ]
  },
  {
   "cell_type": "markdown",
   "metadata": {},
   "source": [
    "### Preprocess all the data and save it\n",
    "Running the code cell below will preprocess all the data and save it to file."
   ]
  },
  {
   "cell_type": "code",
   "execution_count": 4,
   "metadata": {
    "collapsed": true
   },
   "outputs": [],
   "source": [
    "\"\"\"\n",
    "DON'T MODIFY ANYTHING IN THIS CELL\n",
    "\"\"\"\n",
    "helper.preprocess_and_save_data(source_path, target_path, text_to_ids)"
   ]
  },
  {
   "cell_type": "markdown",
   "metadata": {},
   "source": [
    "# Check Point\n",
    "This is your first checkpoint. If you ever decide to come back to this notebook or have to restart the notebook, you can start from here. The preprocessed data has been saved to disk."
   ]
  },
  {
   "cell_type": "code",
   "execution_count": 5,
   "metadata": {
    "collapsed": true
   },
   "outputs": [],
   "source": [
    "\"\"\"\n",
    "DON'T MODIFY ANYTHING IN THIS CELL\n",
    "\"\"\"\n",
    "import numpy as np\n",
    "import helper\n",
    "import problem_unittests as tests\n",
    "\n",
    "(source_int_text, target_int_text), (source_vocab_to_int, target_vocab_to_int), _ = helper.load_preprocess()"
   ]
  },
  {
   "cell_type": "markdown",
   "metadata": {},
   "source": [
    "### Check the Version of TensorFlow and Access to GPU\n",
    "This will check to make sure you have the correct version of TensorFlow and access to a GPU"
   ]
  },
  {
   "cell_type": "code",
   "execution_count": 6,
   "metadata": {},
   "outputs": [
    {
     "name": "stdout",
     "output_type": "stream",
     "text": [
      "TensorFlow Version: 1.1.0\n",
      "Default GPU Device: /gpu:0\n"
     ]
    }
   ],
   "source": [
    "\"\"\"\n",
    "DON'T MODIFY ANYTHING IN THIS CELL\n",
    "\"\"\"\n",
    "from distutils.version import LooseVersion\n",
    "import warnings\n",
    "import tensorflow as tf\n",
    "from tensorflow.python.layers.core import Dense\n",
    "\n",
    "# Check TensorFlow Version\n",
    "assert LooseVersion(tf.__version__) >= LooseVersion('1.1'), 'Please use TensorFlow version 1.1 or newer'\n",
    "print('TensorFlow Version: {}'.format(tf.__version__))\n",
    "\n",
    "# Check for a GPU\n",
    "if not tf.test.gpu_device_name():\n",
    "    warnings.warn('No GPU found. Please use a GPU to train your neural network.')\n",
    "else:\n",
    "    print('Default GPU Device: {}'.format(tf.test.gpu_device_name()))"
   ]
  },
  {
   "cell_type": "markdown",
   "metadata": {},
   "source": [
    "## Build the Neural Network\n",
    "You'll build the components necessary to build a Sequence-to-Sequence model by implementing the following functions below:\n",
    "- `model_inputs`\n",
    "- `process_decoder_input`\n",
    "- `encoding_layer`\n",
    "- `decoding_layer_train`\n",
    "- `decoding_layer_infer`\n",
    "- `decoding_layer`\n",
    "- `seq2seq_model`\n",
    "\n",
    "### Input\n",
    "Implement the `model_inputs()` function to create TF Placeholders for the Neural Network. It should create the following placeholders:\n",
    "\n",
    "- Input text placeholder named \"input\" using the TF Placeholder name parameter with rank 2.\n",
    "- Targets placeholder with rank 2.\n",
    "- Learning rate placeholder with rank 0.\n",
    "- Keep probability placeholder named \"keep_prob\" using the TF Placeholder name parameter with rank 0.\n",
    "- Target sequence length placeholder named \"target_sequence_length\" with rank 1\n",
    "- Max target sequence length tensor named \"max_target_len\" getting its value from applying tf.reduce_max on the target_sequence_length placeholder. Rank 0.\n",
    "- Source sequence length placeholder named \"source_sequence_length\" with rank 1\n",
    "\n",
    "Return the placeholders in the following the tuple (input, targets, learning rate, keep probability, target sequence length, max target sequence length, source sequence length)"
   ]
  },
  {
   "cell_type": "code",
   "execution_count": 7,
   "metadata": {},
   "outputs": [
    {
     "name": "stdout",
     "output_type": "stream",
     "text": [
      "Tests Passed\n"
     ]
    }
   ],
   "source": [
    "def model_inputs():\n",
    "    \"\"\"\n",
    "    Create TF Placeholders for input, targets, learning rate, and lengths of source and target sequences.\n",
    "    :return: Tuple (input, targets, learning rate, keep probability, target sequence length,\n",
    "    max target sequence length, source sequence length)\n",
    "    \"\"\"\n",
    "    input_text = tf.placeholder(tf.int32, [None, None], name='input')\n",
    "    target_text = tf.placeholder(tf.int32, [None, None], name='target')\n",
    "    learning_rate = tf.placeholder(tf.float32, name='learning_rate')\n",
    "    keep_prob = tf.placeholder(tf.float32, name='keep_prob')\n",
    "    \n",
    "    target_seq_length = tf.placeholder(tf.int32, [None], name='target_sequence_length')\n",
    "    max_target_seq_length = tf.reduce_max(target_seq_length, name='max_target_len')\n",
    "    source_seq_length = tf.placeholder(tf.int32, [None], name='source_sequence_length')\n",
    "    \n",
    "    return input_text, target_text, learning_rate, keep_prob, target_seq_length, max_target_seq_length, source_seq_length\n",
    "\n",
    "\n",
    "\"\"\"\n",
    "DON'T MODIFY ANYTHING IN THIS CELL THAT IS BELOW THIS LINE\n",
    "\"\"\"\n",
    "tests.test_model_inputs(model_inputs)"
   ]
  },
  {
   "cell_type": "markdown",
   "metadata": {},
   "source": [
    "### Process Decoder Input\n",
    "Implement `process_decoder_input` by removing the last word id from each batch in `target_data` and concat the GO ID to the begining of each batch."
   ]
  },
  {
   "cell_type": "code",
   "execution_count": 8,
   "metadata": {},
   "outputs": [
    {
     "name": "stdout",
     "output_type": "stream",
     "text": [
      "Tests Passed\n"
     ]
    }
   ],
   "source": [
    "def process_decoder_input(target_data, target_vocab_to_int, batch_size):\n",
    "    \"\"\"\n",
    "    Preprocess target data for encoding\n",
    "    :param target_data: Target Placehoder\n",
    "    :param target_vocab_to_int: Dictionary to go from the target words to an id\n",
    "    :param batch_size: Batch Size\n",
    "    :return: Preprocessed target data\n",
    "    \"\"\"\n",
    "    last_dropped = tf.strided_slice(target_data, [0, 0], [batch_size, -1], [1, 1])\n",
    "    go_added = tf.concat([tf.fill([batch_size, 1], target_vocab_to_int['<GO>']), last_dropped], 1)\n",
    "    return go_added\n",
    "\n",
    "\"\"\"\n",
    "DON'T MODIFY ANYTHING IN THIS CELL THAT IS BELOW THIS LINE\n",
    "\"\"\"\n",
    "tests.test_process_encoding_input(process_decoder_input)"
   ]
  },
  {
   "cell_type": "markdown",
   "metadata": {},
   "source": [
    "### Encoding\n",
    "Implement `encoding_layer()` to create a Encoder RNN layer:\n",
    " * Embed the encoder input using [`tf.contrib.layers.embed_sequence`](https://www.tensorflow.org/api_docs/python/tf/contrib/layers/embed_sequence)\n",
    " * Construct a [stacked](https://github.com/tensorflow/tensorflow/blob/6947f65a374ebf29e74bb71e36fd82760056d82c/tensorflow/docs_src/tutorials/recurrent.md#stacking-multiple-lstms) [`tf.contrib.rnn.LSTMCell`](https://www.tensorflow.org/api_docs/python/tf/contrib/rnn/LSTMCell) wrapped in a [`tf.contrib.rnn.DropoutWrapper`](https://www.tensorflow.org/api_docs/python/tf/contrib/rnn/DropoutWrapper)\n",
    " * Pass cell and embedded input to [`tf.nn.dynamic_rnn()`](https://www.tensorflow.org/api_docs/python/tf/nn/dynamic_rnn)"
   ]
  },
  {
   "cell_type": "code",
   "execution_count": 9,
   "metadata": {
    "scrolled": false
   },
   "outputs": [
    {
     "name": "stdout",
     "output_type": "stream",
     "text": [
      "Tests Passed\n"
     ]
    }
   ],
   "source": [
    "from imp import reload\n",
    "reload(tests)\n",
    "\n",
    "def encoding_layer(rnn_inputs, rnn_size, num_layers, keep_prob, \n",
    "                   source_sequence_length, source_vocab_size, \n",
    "                   encoding_embedding_size):\n",
    "    \"\"\"\n",
    "    Create encoding layer\n",
    "    :param rnn_inputs: Inputs for the RNN\n",
    "    :param rnn_size: RNN Size\n",
    "    :param num_layers: Number of layers\n",
    "    :param keep_prob: Dropout keep probability\n",
    "    :param source_sequence_length: a list of the lengths of each sequence in the batch\n",
    "    :param source_vocab_size: vocabulary size of source data\n",
    "    :param encoding_embedding_size: embedding size of source data\n",
    "    :return: tuple (RNN output, RNN state)\n",
    "    \"\"\"\n",
    "    enc_embed_input = tf.contrib.layers.embed_sequence(rnn_inputs, source_vocab_size, encoding_embedding_size)\n",
    "    \n",
    "    def enc_lstm_cell():\n",
    "        cell = tf.contrib.rnn.LSTMCell(rnn_size, initializer=tf.random_uniform_initializer(-0.1, 0.1, seed=2))\n",
    "        return tf.contrib.rnn.DropoutWrapper(cell, output_keep_prob=keep_prob)\n",
    "    \n",
    "    enc_cell = tf.contrib.rnn.MultiRNNCell([enc_lstm_cell() for _ in range(num_layers)])\n",
    "    \n",
    "    enc_output, enc_state = tf.nn.dynamic_rnn(enc_cell, enc_embed_input, sequence_length=source_sequence_length, dtype=tf.float32)\n",
    "    \n",
    "    return enc_output, enc_state\n",
    "\n",
    "\"\"\"\n",
    "DON'T MODIFY ANYTHING IN THIS CELL THAT IS BELOW THIS LINE\n",
    "\"\"\"\n",
    "tests.test_encoding_layer(encoding_layer)"
   ]
  },
  {
   "cell_type": "markdown",
   "metadata": {},
   "source": [
    "### Decoding - Training\n",
    "Create a training decoding layer:\n",
    "* Create a [`tf.contrib.seq2seq.TrainingHelper`](https://www.tensorflow.org/api_docs/python/tf/contrib/seq2seq/TrainingHelper) \n",
    "* Create a [`tf.contrib.seq2seq.BasicDecoder`](https://www.tensorflow.org/api_docs/python/tf/contrib/seq2seq/BasicDecoder)\n",
    "* Obtain the decoder outputs from [`tf.contrib.seq2seq.dynamic_decode`](https://www.tensorflow.org/api_docs/python/tf/contrib/seq2seq/dynamic_decode)"
   ]
  },
  {
   "cell_type": "code",
   "execution_count": 10,
   "metadata": {},
   "outputs": [
    {
     "name": "stdout",
     "output_type": "stream",
     "text": [
      "Tests Passed\n"
     ]
    }
   ],
   "source": [
    "\n",
    "def decoding_layer_train(encoder_state, dec_cell, dec_embed_input, \n",
    "                         target_sequence_length, max_summary_length, \n",
    "                         output_layer, keep_prob):\n",
    "    \"\"\"\n",
    "    Create a decoding layer for training\n",
    "    :param encoder_state: Encoder State\n",
    "    :param dec_cell: Decoder RNN Cell\n",
    "    :param dec_embed_input: Decoder embedded input\n",
    "    :param target_sequence_length: The lengths of each sequence in the target batch\n",
    "    :param max_summary_length: The length of the longest sequence in the batch\n",
    "    :param output_layer: Function to apply the output layer\n",
    "    :param keep_prob: Dropout keep probability\n",
    "    :return: BasicDecoderOutput containing training logits and sample_id\n",
    "    \"\"\"\n",
    "    training_helper = tf.contrib.seq2seq.TrainingHelper(inputs=dec_embed_input, \n",
    "                                                        sequence_length=target_sequence_length, \n",
    "                                                        time_major=False)\n",
    "    training_decoder = tf.contrib.seq2seq.BasicDecoder(dec_cell, \n",
    "                                                       training_helper, \n",
    "                                                       encoder_state, \n",
    "                                                       output_layer)\n",
    "    training_decoder_output = tf.contrib.seq2seq.dynamic_decode(training_decoder, \n",
    "                                                                impute_finished=True, \n",
    "                                                                maximum_iterations=max_summary_length)[0]\n",
    "    return training_decoder_output\n",
    "\n",
    "\n",
    "\n",
    "\"\"\"\n",
    "DON'T MODIFY ANYTHING IN THIS CELL THAT IS BELOW THIS LINE\n",
    "\"\"\"\n",
    "tests.test_decoding_layer_train(decoding_layer_train)"
   ]
  },
  {
   "cell_type": "markdown",
   "metadata": {},
   "source": [
    "### Decoding - Inference\n",
    "Create inference decoder:\n",
    "* Create a [`tf.contrib.seq2seq.GreedyEmbeddingHelper`](https://www.tensorflow.org/api_docs/python/tf/contrib/seq2seq/GreedyEmbeddingHelper)\n",
    "* Create a [`tf.contrib.seq2seq.BasicDecoder`](https://www.tensorflow.org/api_docs/python/tf/contrib/seq2seq/BasicDecoder)\n",
    "* Obtain the decoder outputs from [`tf.contrib.seq2seq.dynamic_decode`](https://www.tensorflow.org/api_docs/python/tf/contrib/seq2seq/dynamic_decode)"
   ]
  },
  {
   "cell_type": "code",
   "execution_count": 11,
   "metadata": {
    "scrolled": true
   },
   "outputs": [
    {
     "name": "stdout",
     "output_type": "stream",
     "text": [
      "Tests Passed\n"
     ]
    }
   ],
   "source": [
    "def decoding_layer_infer(encoder_state, dec_cell, dec_embeddings, start_of_sequence_id,\n",
    "                         end_of_sequence_id, max_target_sequence_length,\n",
    "                         vocab_size, output_layer, batch_size, keep_prob):\n",
    "    \"\"\"\n",
    "    Create a decoding layer for inference\n",
    "    :param encoder_state: Encoder state\n",
    "    :param dec_cell: Decoder RNN Cell\n",
    "    :param dec_embeddings: Decoder embeddings\n",
    "    :param start_of_sequence_id: GO ID\n",
    "    :param end_of_sequence_id: EOS Id\n",
    "    :param max_target_sequence_length: Maximum length of target sequences\n",
    "    :param vocab_size: Size of decoder/target vocabulary\n",
    "    :param decoding_scope: TenorFlow Variable Scope for decoding\n",
    "    :param output_layer: Function to apply the output layer\n",
    "    :param batch_size: Batch size\n",
    "    :param keep_prob: Dropout keep probability\n",
    "    :return: BasicDecoderOutput containing inference logits and sample_id\n",
    "    \"\"\"\n",
    "    start_tokens = tf.tile(tf.constant([start_of_sequence_id], dtype=tf.int32), [batch_size], name='start_tokens')\n",
    "    inference_helper = tf.contrib.seq2seq.GreedyEmbeddingHelper(dec_embeddings, start_tokens, end_of_sequence_id)\n",
    "    inference_decoder = tf.contrib.seq2seq.BasicDecoder(dec_cell, inference_helper, encoder_state, output_layer)\n",
    "    inference_decoder_output = tf.contrib.seq2seq.dynamic_decode(inference_decoder, impute_finished=True, maximum_iterations=max_target_sequence_length)[0]\n",
    "    return inference_decoder_output\n",
    "\n",
    "\n",
    "\n",
    "\"\"\"\n",
    "DON'T MODIFY ANYTHING IN THIS CELL THAT IS BELOW THIS LINE\n",
    "\"\"\"\n",
    "tests.test_decoding_layer_infer(decoding_layer_infer)"
   ]
  },
  {
   "cell_type": "markdown",
   "metadata": {},
   "source": [
    "### Build the Decoding Layer\n",
    "Implement `decoding_layer()` to create a Decoder RNN layer.\n",
    "\n",
    "* Embed the target sequences\n",
    "* Construct the decoder LSTM cell (just like you constructed the encoder cell above)\n",
    "* Create an output layer to map the outputs of the decoder to the elements of our vocabulary\n",
    "* Use the your `decoding_layer_train(encoder_state, dec_cell, dec_embed_input, target_sequence_length, max_target_sequence_length, output_layer, keep_prob)` function to get the training logits.\n",
    "* Use your `decoding_layer_infer(encoder_state, dec_cell, dec_embeddings, start_of_sequence_id, end_of_sequence_id, max_target_sequence_length, vocab_size, output_layer, batch_size, keep_prob)` function to get the inference logits.\n",
    "\n",
    "Note: You'll need to use [tf.variable_scope](https://www.tensorflow.org/api_docs/python/tf/variable_scope) to share variables between training and inference."
   ]
  },
  {
   "cell_type": "code",
   "execution_count": 12,
   "metadata": {},
   "outputs": [
    {
     "name": "stdout",
     "output_type": "stream",
     "text": [
      "Tests Passed\n"
     ]
    }
   ],
   "source": [
    "def decoding_layer(dec_input, encoder_state,\n",
    "                   target_sequence_length, max_target_sequence_length,\n",
    "                   rnn_size,\n",
    "                   num_layers, target_vocab_to_int, target_vocab_size,\n",
    "                   batch_size, keep_prob, decoding_embedding_size):\n",
    "    \"\"\"\n",
    "    Create decoding layer\n",
    "    :param dec_input: Decoder input\n",
    "    :param encoder_state: Encoder state\n",
    "    :param target_sequence_length: The lengths of each sequence in the target batch\n",
    "    :param max_target_sequence_length: Maximum length of target sequences\n",
    "    :param rnn_size: RNN Size\n",
    "    :param num_layers: Number of layers\n",
    "    :param target_vocab_to_int: Dictionary to go from the target words to an id\n",
    "    :param target_vocab_size: Size of target vocabulary\n",
    "    :param batch_size: The size of the batch\n",
    "    :param keep_prob: Dropout keep probability\n",
    "    :param decoding_embedding_size: Decoding embedding size\n",
    "    :return: Tuple of (Training BasicDecoderOutput, Inference BasicDecoderOutput)\n",
    "    \"\"\"\n",
    "    vocab_size = len(target_vocab_to_int)\n",
    "    dec_embeddings = tf.Variable(tf.random_uniform([target_vocab_size, decoding_embedding_size]))\n",
    "    dec_embed_input = tf.nn.embedding_lookup(dec_embeddings, dec_input)\n",
    "    \n",
    "    def dec_lstm_cell():\n",
    "        cell = tf.contrib.rnn.LSTMCell(rnn_size, initializer=tf.random_uniform_initializer(-1.0, 1.0, seed=2))\n",
    "        return tf.contrib.rnn.DropoutWrapper(cell, output_keep_prob=keep_prob) # ADD DROPOUT\n",
    "    \n",
    "    dec_cell = tf.contrib.rnn.MultiRNNCell([dec_lstm_cell() for _ in range(num_layers)])\n",
    "    \n",
    "    output_layer = Dense(target_vocab_size, kernel_initializer=tf.truncated_normal_initializer(mean=0.0, stddev=0.1))\n",
    "    \n",
    "    with tf.variable_scope('decode'):\n",
    "        training_decoder_output = decoding_layer_train(encoder_state, \n",
    "                                  dec_cell, \n",
    "                                  dec_embed_input, \n",
    "                                  target_sequence_length, \n",
    "                                  max_target_sequence_length, \n",
    "                                  output_layer, \n",
    "                                  keep_prob)\n",
    "    \n",
    "    with tf.variable_scope('decode', reuse=True):\n",
    "        infer_decoder_output = decoding_layer_infer(encoder_state, \n",
    "                                                    dec_cell, \n",
    "                                                    dec_embeddings, \n",
    "                                                    target_vocab_to_int['<GO>'],\n",
    "                                                    target_vocab_to_int['<EOS>'], \n",
    "                                                    max_target_sequence_length,\n",
    "                                                    target_vocab_size,\n",
    "                                                    output_layer, \n",
    "                                                    batch_size, \n",
    "                                                    keep_prob)\n",
    "        \n",
    "    return training_decoder_output, infer_decoder_output\n",
    "\n",
    "\n",
    "\n",
    "\"\"\"\n",
    "DON'T MODIFY ANYTHING IN THIS CELL THAT IS BELOW THIS LINE\n",
    "\"\"\"\n",
    "tests.test_decoding_layer(decoding_layer)"
   ]
  },
  {
   "cell_type": "markdown",
   "metadata": {},
   "source": [
    "### Build the Neural Network\n",
    "Apply the functions you implemented above to:\n",
    "\n",
    "- Encode the input using your `encoding_layer(rnn_inputs, rnn_size, num_layers, keep_prob,  source_sequence_length, source_vocab_size, encoding_embedding_size)`.\n",
    "- Process target data using your `process_decoder_input(target_data, target_vocab_to_int, batch_size)` function.\n",
    "- Decode the encoded input using your `decoding_layer(dec_input, enc_state, target_sequence_length, max_target_sentence_length, rnn_size, num_layers, target_vocab_to_int, target_vocab_size, batch_size, keep_prob, dec_embedding_size)` function."
   ]
  },
  {
   "cell_type": "code",
   "execution_count": 13,
   "metadata": {},
   "outputs": [
    {
     "name": "stdout",
     "output_type": "stream",
     "text": [
      "Tests Passed\n"
     ]
    }
   ],
   "source": [
    "def seq2seq_model(input_data, target_data, keep_prob, batch_size,\n",
    "                  source_sequence_length, target_sequence_length,\n",
    "                  max_target_sentence_length,\n",
    "                  source_vocab_size, target_vocab_size,\n",
    "                  enc_embedding_size, dec_embedding_size,\n",
    "                  rnn_size, num_layers, target_vocab_to_int):\n",
    "    \"\"\"\n",
    "    Build the Sequence-to-Sequence part of the neural network\n",
    "    :param input_data: Input placeholder\n",
    "    :param target_data: Target placeholder\n",
    "    :param keep_prob: Dropout keep probability placeholder\n",
    "    :param batch_size: Batch Size\n",
    "    :param source_sequence_length: Sequence Lengths of source sequences in the batch\n",
    "    :param target_sequence_length: Sequence Lengths of target sequences in the batch\n",
    "    :param source_vocab_size: Source vocabulary size\n",
    "    :param target_vocab_size: Target vocabulary size\n",
    "    :param enc_embedding_size: Decoder embedding size\n",
    "    :param dec_embedding_size: Encoder embedding size\n",
    "    :param rnn_size: RNN Size\n",
    "    :param num_layers: Number of layers\n",
    "    :param target_vocab_to_int: Dictionary to go from the target words to an id\n",
    "    :return: Tuple of (Training BasicDecoderOutput, Inference BasicDecoderOutput)\n",
    "    \"\"\"\n",
    "    _, enc_state = encoding_layer(input_data, \n",
    "                                  rnn_size, \n",
    "                                  num_layers, \n",
    "                                  keep_prob, \n",
    "                                  source_sequence_length, \n",
    "                                  source_vocab_size, \n",
    "                                  enc_embedding_size)\n",
    "    \n",
    "    dec_input = process_decoder_input(target_data, target_vocab_to_int, batch_size)\n",
    "    \n",
    "    training_decoder_output, inference_decoder_output = decoding_layer(dec_input, \n",
    "                                                                       enc_state, \n",
    "                                                                       target_sequence_length, \n",
    "                                                                       max_target_sentence_length, \n",
    "                                                                       rnn_size, \n",
    "                                                                       num_layers, \n",
    "                                                                       target_vocab_to_int, \n",
    "                                                                       target_vocab_size, \n",
    "                                                                       batch_size, \n",
    "                                                                       keep_prob, \n",
    "                                                                       dec_embedding_size)\n",
    "    return training_decoder_output, inference_decoder_output\n",
    "\n",
    "\n",
    "\"\"\"\n",
    "DON'T MODIFY ANYTHING IN THIS CELL THAT IS BELOW THIS LINE\n",
    "\"\"\"\n",
    "tests.test_seq2seq_model(seq2seq_model)"
   ]
  },
  {
   "cell_type": "markdown",
   "metadata": {},
   "source": [
    "## Neural Network Training\n",
    "### Hyperparameters\n",
    "Tune the following parameters:\n",
    "\n",
    "- Set `epochs` to the number of epochs.\n",
    "- Set `batch_size` to the batch size.\n",
    "- Set `rnn_size` to the size of the RNNs.\n",
    "- Set `num_layers` to the number of layers.\n",
    "- Set `encoding_embedding_size` to the size of the embedding for the encoder.\n",
    "- Set `decoding_embedding_size` to the size of the embedding for the decoder.\n",
    "- Set `learning_rate` to the learning rate.\n",
    "- Set `keep_probability` to the Dropout keep probability\n",
    "- Set `display_step` to state how many steps between each debug output statement"
   ]
  },
  {
   "cell_type": "code",
   "execution_count": 4,
   "metadata": {
    "collapsed": true
   },
   "outputs": [],
   "source": [
    "# Number of Epochs\n",
    "epochs = 12\n",
    "# Batch Size\n",
    "batch_size = 256\n",
    "# RNN Size\n",
    "rnn_size = 256\n",
    "# Number of Layers\n",
    "num_layers = 2\n",
    "# Embedding Size\n",
    "encoding_embedding_size = 256\n",
    "decoding_embedding_size = 256\n",
    "# Learning Rate\n",
    "learning_rate = 0.01\n",
    "# Dropout Keep Probability\n",
    "keep_probability = 0.7\n",
    "display_step = 20"
   ]
  },
  {
   "cell_type": "markdown",
   "metadata": {},
   "source": [
    "### Build the Graph\n",
    "Build the graph using the neural network you implemented."
   ]
  },
  {
   "cell_type": "code",
   "execution_count": 24,
   "metadata": {
    "collapsed": true
   },
   "outputs": [],
   "source": [
    "\"\"\"\n",
    "DON'T MODIFY ANYTHING IN THIS CELL\n",
    "\"\"\"\n",
    "save_path = 'checkpoints/dev'\n",
    "(source_int_text, target_int_text), (source_vocab_to_int, target_vocab_to_int), _ = helper.load_preprocess()\n",
    "max_target_sentence_length = max([len(sentence) for sentence in source_int_text])\n",
    "\n",
    "train_graph = tf.Graph()\n",
    "with train_graph.as_default():\n",
    "    input_data, targets, lr, keep_prob, target_sequence_length, max_target_sequence_length, source_sequence_length = model_inputs()\n",
    "\n",
    "    #sequence_length = tf.placeholder_with_default(max_target_sentence_length, None, name='sequence_length')\n",
    "    input_shape = tf.shape(input_data)\n",
    "\n",
    "    train_logits, inference_logits = seq2seq_model(tf.reverse(input_data, [-1]),\n",
    "                                                   targets,\n",
    "                                                   keep_prob,\n",
    "                                                   batch_size,\n",
    "                                                   source_sequence_length,\n",
    "                                                   target_sequence_length,\n",
    "                                                   max_target_sequence_length,\n",
    "                                                   len(source_vocab_to_int),\n",
    "                                                   len(target_vocab_to_int),\n",
    "                                                   encoding_embedding_size,\n",
    "                                                   decoding_embedding_size,\n",
    "                                                   rnn_size,\n",
    "                                                   num_layers,\n",
    "                                                   target_vocab_to_int)\n",
    "\n",
    "\n",
    "    training_logits = tf.identity(train_logits.rnn_output, name='logits')\n",
    "    inference_logits = tf.identity(inference_logits.sample_id, name='predictions')\n",
    "\n",
    "    masks = tf.sequence_mask(target_sequence_length, max_target_sequence_length, dtype=tf.float32, name='masks')\n",
    "\n",
    "    with tf.name_scope(\"optimization\"):\n",
    "        # Loss function\n",
    "        cost = tf.contrib.seq2seq.sequence_loss(\n",
    "            training_logits,\n",
    "            targets,\n",
    "            masks)\n",
    "\n",
    "        # Optimizer\n",
    "        optimizer = tf.train.AdamOptimizer(lr)\n",
    "\n",
    "        # Gradient Clipping\n",
    "        gradients = optimizer.compute_gradients(cost)\n",
    "        capped_gradients = [(tf.clip_by_value(grad, -1., 1.), var) for grad, var in gradients if grad is not None]\n",
    "        train_op = optimizer.apply_gradients(capped_gradients)\n"
   ]
  },
  {
   "cell_type": "markdown",
   "metadata": {},
   "source": [
    "Batch and pad the source and target sequences"
   ]
  },
  {
   "cell_type": "code",
   "execution_count": 25,
   "metadata": {
    "collapsed": true
   },
   "outputs": [],
   "source": [
    "\"\"\"\n",
    "DON'T MODIFY ANYTHING IN THIS CELL\n",
    "\"\"\"\n",
    "def pad_sentence_batch(sentence_batch, pad_int):\n",
    "    \"\"\"Pad sentences with <PAD> so that each sentence of a batch has the same length\"\"\"\n",
    "    max_sentence = max([len(sentence) for sentence in sentence_batch])\n",
    "    return [sentence + [pad_int] * (max_sentence - len(sentence)) for sentence in sentence_batch]\n",
    "\n",
    "\n",
    "def get_batches(sources, targets, batch_size, source_pad_int, target_pad_int):\n",
    "    \"\"\"Batch targets, sources, and the lengths of their sentences together\"\"\"\n",
    "    for batch_i in range(0, len(sources)//batch_size):\n",
    "        start_i = batch_i * batch_size\n",
    "\n",
    "        # Slice the right amount for the batch\n",
    "        sources_batch = sources[start_i:start_i + batch_size]\n",
    "        targets_batch = targets[start_i:start_i + batch_size]\n",
    "\n",
    "        # Pad\n",
    "        pad_sources_batch = np.array(pad_sentence_batch(sources_batch, source_pad_int))\n",
    "        pad_targets_batch = np.array(pad_sentence_batch(targets_batch, target_pad_int))\n",
    "\n",
    "        # Need the lengths for the _lengths parameters\n",
    "        pad_targets_lengths = []\n",
    "        for target in pad_targets_batch:\n",
    "            pad_targets_lengths.append(len(target))\n",
    "\n",
    "        pad_source_lengths = []\n",
    "        for source in pad_sources_batch:\n",
    "            pad_source_lengths.append(len(source))\n",
    "\n",
    "        yield pad_sources_batch, pad_targets_batch, pad_source_lengths, pad_targets_lengths\n"
   ]
  },
  {
   "cell_type": "markdown",
   "metadata": {},
   "source": [
    "### Train\n",
    "Train the neural network on the preprocessed data. If you have a hard time getting a good loss, check the forms to see if anyone is having the same problem."
   ]
  },
  {
   "cell_type": "code",
   "execution_count": 26,
   "metadata": {
    "scrolled": true
   },
   "outputs": [
    {
     "name": "stdout",
     "output_type": "stream",
     "text": [
      "Epoch   0 Batch   20/538 - Train Accuracy: 0.3238, Validation Accuracy: 0.3537, Loss: 3.0469\n",
      "Epoch   0 Batch   40/538 - Train Accuracy: 0.3762, Validation Accuracy: 0.3794, Loss: 2.3329\n",
      "Epoch   0 Batch   60/538 - Train Accuracy: 0.3068, Validation Accuracy: 0.3912, Loss: 2.0003\n",
      "Epoch   0 Batch   80/538 - Train Accuracy: 0.3477, Validation Accuracy: 0.4039, Loss: 1.6912\n",
      "Epoch   0 Batch  100/538 - Train Accuracy: 0.3885, Validation Accuracy: 0.4387, Loss: 1.4426\n",
      "Epoch   0 Batch  120/538 - Train Accuracy: 0.3807, Validation Accuracy: 0.4350, Loss: 1.2913\n",
      "Epoch   0 Batch  140/538 - Train Accuracy: 0.3596, Validation Accuracy: 0.4393, Loss: 1.2755\n",
      "Epoch   0 Batch  160/538 - Train Accuracy: 0.3925, Validation Accuracy: 0.4416, Loss: 1.0714\n",
      "Epoch   0 Batch  180/538 - Train Accuracy: 0.3876, Validation Accuracy: 0.4190, Loss: 1.0598\n",
      "Epoch   0 Batch  200/538 - Train Accuracy: 0.3822, Validation Accuracy: 0.4231, Loss: 1.0114\n",
      "Epoch   0 Batch  220/538 - Train Accuracy: 0.3897, Validation Accuracy: 0.4361, Loss: 0.9805\n",
      "Epoch   0 Batch  240/538 - Train Accuracy: 0.4102, Validation Accuracy: 0.4505, Loss: 1.0115\n",
      "Epoch   0 Batch  260/538 - Train Accuracy: 0.4107, Validation Accuracy: 0.4627, Loss: 0.9484\n",
      "Epoch   0 Batch  280/538 - Train Accuracy: 0.4195, Validation Accuracy: 0.4620, Loss: 0.8892\n",
      "Epoch   0 Batch  300/538 - Train Accuracy: 0.4444, Validation Accuracy: 0.4664, Loss: 0.8769\n",
      "Epoch   0 Batch  320/538 - Train Accuracy: 0.4513, Validation Accuracy: 0.4828, Loss: 0.8685\n",
      "Epoch   0 Batch  340/538 - Train Accuracy: 0.3906, Validation Accuracy: 0.4668, Loss: 0.8963\n",
      "Epoch   0 Batch  360/538 - Train Accuracy: 0.4416, Validation Accuracy: 0.4924, Loss: 0.8556\n",
      "Epoch   0 Batch  380/538 - Train Accuracy: 0.4004, Validation Accuracy: 0.4478, Loss: 0.8330\n",
      "Epoch   0 Batch  400/538 - Train Accuracy: 0.4686, Validation Accuracy: 0.4941, Loss: 0.8081\n",
      "Epoch   0 Batch  420/538 - Train Accuracy: 0.4479, Validation Accuracy: 0.4979, Loss: 0.8075\n",
      "Epoch   0 Batch  440/538 - Train Accuracy: 0.4424, Validation Accuracy: 0.4815, Loss: 0.8282\n",
      "Epoch   0 Batch  460/538 - Train Accuracy: 0.5141, Validation Accuracy: 0.5266, Loss: 0.7647\n",
      "Epoch   0 Batch  480/538 - Train Accuracy: 0.5281, Validation Accuracy: 0.5291, Loss: 0.7490\n",
      "Epoch   0 Batch  500/538 - Train Accuracy: 0.5673, Validation Accuracy: 0.5453, Loss: 0.7002\n",
      "Epoch   0 Batch  520/538 - Train Accuracy: 0.5012, Validation Accuracy: 0.5414, Loss: 0.7471\n",
      "Epoch   1 Batch   20/538 - Train Accuracy: 0.5404, Validation Accuracy: 0.5623, Loss: 0.7070\n",
      "Epoch   1 Batch   40/538 - Train Accuracy: 0.5797, Validation Accuracy: 0.5678, Loss: 0.6340\n",
      "Epoch   1 Batch   60/538 - Train Accuracy: 0.5531, Validation Accuracy: 0.5659, Loss: 0.6946\n",
      "Epoch   1 Batch   80/538 - Train Accuracy: 0.5232, Validation Accuracy: 0.5609, Loss: 0.7213\n",
      "Epoch   1 Batch  100/538 - Train Accuracy: 0.5689, Validation Accuracy: 0.5795, Loss: 0.6788\n",
      "Epoch   1 Batch  120/538 - Train Accuracy: 0.5439, Validation Accuracy: 0.5692, Loss: 0.6632\n",
      "Epoch   1 Batch  140/538 - Train Accuracy: 0.5316, Validation Accuracy: 0.5819, Loss: 0.7132\n",
      "Epoch   1 Batch  160/538 - Train Accuracy: 0.5744, Validation Accuracy: 0.5744, Loss: 0.6389\n",
      "Epoch   1 Batch  180/538 - Train Accuracy: 0.5928, Validation Accuracy: 0.5980, Loss: 0.6367\n",
      "Epoch   1 Batch  200/538 - Train Accuracy: 0.5637, Validation Accuracy: 0.5930, Loss: 0.6500\n",
      "Epoch   1 Batch  220/538 - Train Accuracy: 0.5474, Validation Accuracy: 0.5923, Loss: 0.6280\n",
      "Epoch   1 Batch  240/538 - Train Accuracy: 0.5676, Validation Accuracy: 0.5985, Loss: 0.6489\n",
      "Epoch   1 Batch  260/538 - Train Accuracy: 0.5751, Validation Accuracy: 0.5987, Loss: 0.6315\n",
      "Epoch   1 Batch  280/538 - Train Accuracy: 0.6189, Validation Accuracy: 0.5993, Loss: 0.5951\n",
      "Epoch   1 Batch  300/538 - Train Accuracy: 0.5826, Validation Accuracy: 0.6081, Loss: 0.6116\n",
      "Epoch   1 Batch  320/538 - Train Accuracy: 0.5977, Validation Accuracy: 0.6154, Loss: 0.5997\n",
      "Epoch   1 Batch  340/538 - Train Accuracy: 0.5514, Validation Accuracy: 0.5991, Loss: 0.6360\n",
      "Epoch   1 Batch  360/538 - Train Accuracy: 0.5699, Validation Accuracy: 0.5994, Loss: 0.6127\n",
      "Epoch   1 Batch  380/538 - Train Accuracy: 0.5939, Validation Accuracy: 0.5822, Loss: 0.6069\n",
      "Epoch   1 Batch  400/538 - Train Accuracy: 0.5954, Validation Accuracy: 0.6040, Loss: 0.5862\n",
      "Epoch   1 Batch  420/538 - Train Accuracy: 0.6244, Validation Accuracy: 0.6014, Loss: 0.5926\n",
      "Epoch   1 Batch  440/538 - Train Accuracy: 0.5848, Validation Accuracy: 0.6104, Loss: 0.6083\n",
      "Epoch   1 Batch  460/538 - Train Accuracy: 0.5949, Validation Accuracy: 0.6028, Loss: 0.5628\n",
      "Epoch   1 Batch  480/538 - Train Accuracy: 0.6177, Validation Accuracy: 0.5971, Loss: 0.5597\n",
      "Epoch   1 Batch  500/538 - Train Accuracy: 0.6319, Validation Accuracy: 0.6156, Loss: 0.5187\n",
      "Epoch   1 Batch  520/538 - Train Accuracy: 0.5945, Validation Accuracy: 0.6074, Loss: 0.5752\n",
      "Epoch   2 Batch   20/538 - Train Accuracy: 0.5748, Validation Accuracy: 0.6053, Loss: 0.5576\n",
      "Epoch   2 Batch   40/538 - Train Accuracy: 0.6513, Validation Accuracy: 0.6301, Loss: 0.4805\n",
      "Epoch   2 Batch   60/538 - Train Accuracy: 0.5977, Validation Accuracy: 0.5893, Loss: 0.5422\n",
      "Epoch   2 Batch   80/538 - Train Accuracy: 0.5777, Validation Accuracy: 0.6112, Loss: 0.5502\n",
      "Epoch   2 Batch  100/538 - Train Accuracy: 0.6018, Validation Accuracy: 0.6108, Loss: 0.5294\n",
      "Epoch   2 Batch  120/538 - Train Accuracy: 0.6156, Validation Accuracy: 0.5923, Loss: 0.5134\n",
      "Epoch   2 Batch  140/538 - Train Accuracy: 0.5529, Validation Accuracy: 0.6097, Loss: 0.5485\n",
      "Epoch   2 Batch  160/538 - Train Accuracy: 0.6179, Validation Accuracy: 0.6243, Loss: 0.5045\n",
      "Epoch   2 Batch  180/538 - Train Accuracy: 0.6337, Validation Accuracy: 0.6230, Loss: 0.4983\n",
      "Epoch   2 Batch  200/538 - Train Accuracy: 0.6295, Validation Accuracy: 0.6312, Loss: 0.5047\n",
      "Epoch   2 Batch  220/538 - Train Accuracy: 0.6019, Validation Accuracy: 0.6142, Loss: 0.4795\n",
      "Epoch   2 Batch  240/538 - Train Accuracy: 0.6242, Validation Accuracy: 0.6211, Loss: 0.4902\n",
      "Epoch   2 Batch  260/538 - Train Accuracy: 0.5911, Validation Accuracy: 0.6012, Loss: 0.4944\n",
      "Epoch   2 Batch  280/538 - Train Accuracy: 0.6475, Validation Accuracy: 0.6094, Loss: 0.4632\n",
      "Epoch   2 Batch  300/538 - Train Accuracy: 0.6488, Validation Accuracy: 0.6193, Loss: 0.4843\n",
      "Epoch   2 Batch  320/538 - Train Accuracy: 0.6371, Validation Accuracy: 0.6159, Loss: 0.4618\n",
      "Epoch   2 Batch  340/538 - Train Accuracy: 0.6391, Validation Accuracy: 0.6367, Loss: 0.4878\n",
      "Epoch   2 Batch  360/538 - Train Accuracy: 0.6312, Validation Accuracy: 0.6341, Loss: 0.4646\n",
      "Epoch   2 Batch  380/538 - Train Accuracy: 0.6574, Validation Accuracy: 0.6234, Loss: 0.4545\n",
      "Epoch   2 Batch  400/538 - Train Accuracy: 0.6347, Validation Accuracy: 0.6353, Loss: 0.4611\n",
      "Epoch   2 Batch  420/538 - Train Accuracy: 0.6697, Validation Accuracy: 0.6465, Loss: 0.4544\n",
      "Epoch   2 Batch  440/538 - Train Accuracy: 0.6539, Validation Accuracy: 0.6518, Loss: 0.4655\n",
      "Epoch   2 Batch  460/538 - Train Accuracy: 0.6421, Validation Accuracy: 0.6522, Loss: 0.4220\n",
      "Epoch   2 Batch  480/538 - Train Accuracy: 0.6769, Validation Accuracy: 0.6403, Loss: 0.4328\n",
      "Epoch   2 Batch  500/538 - Train Accuracy: 0.7001, Validation Accuracy: 0.6481, Loss: 0.3924\n",
      "Epoch   2 Batch  520/538 - Train Accuracy: 0.6352, Validation Accuracy: 0.6607, Loss: 0.4369\n",
      "Epoch   3 Batch   20/538 - Train Accuracy: 0.6862, Validation Accuracy: 0.6587, Loss: 0.4132\n",
      "Epoch   3 Batch   40/538 - Train Accuracy: 0.7108, Validation Accuracy: 0.6603, Loss: 0.3579\n",
      "Epoch   3 Batch   60/538 - Train Accuracy: 0.6775, Validation Accuracy: 0.6735, Loss: 0.4089\n",
      "Epoch   3 Batch   80/538 - Train Accuracy: 0.6760, Validation Accuracy: 0.6721, Loss: 0.4064\n",
      "Epoch   3 Batch  100/538 - Train Accuracy: 0.6961, Validation Accuracy: 0.6591, Loss: 0.3919\n",
      "Epoch   3 Batch  120/538 - Train Accuracy: 0.7033, Validation Accuracy: 0.6735, Loss: 0.3749\n",
      "Epoch   3 Batch  140/538 - Train Accuracy: 0.6654, Validation Accuracy: 0.6742, Loss: 0.4077\n",
      "Epoch   3 Batch  160/538 - Train Accuracy: 0.6938, Validation Accuracy: 0.6875, Loss: 0.3554\n",
      "Epoch   3 Batch  180/538 - Train Accuracy: 0.7156, Validation Accuracy: 0.6950, Loss: 0.3568\n",
      "Epoch   3 Batch  200/538 - Train Accuracy: 0.7178, Validation Accuracy: 0.7097, Loss: 0.3570\n",
      "Epoch   3 Batch  220/538 - Train Accuracy: 0.6912, Validation Accuracy: 0.6850, Loss: 0.3437\n"
     ]
    },
    {
     "name": "stdout",
     "output_type": "stream",
     "text": [
      "Epoch   3 Batch  240/538 - Train Accuracy: 0.7006, Validation Accuracy: 0.7083, Loss: 0.3397\n",
      "Epoch   3 Batch  260/538 - Train Accuracy: 0.6717, Validation Accuracy: 0.6879, Loss: 0.3538\n",
      "Epoch   3 Batch  280/538 - Train Accuracy: 0.7230, Validation Accuracy: 0.7070, Loss: 0.3313\n",
      "Epoch   3 Batch  300/538 - Train Accuracy: 0.7206, Validation Accuracy: 0.7076, Loss: 0.3279\n",
      "Epoch   3 Batch  320/538 - Train Accuracy: 0.7247, Validation Accuracy: 0.6914, Loss: 0.3279\n",
      "Epoch   3 Batch  340/538 - Train Accuracy: 0.7246, Validation Accuracy: 0.7085, Loss: 0.3390\n",
      "Epoch   3 Batch  360/538 - Train Accuracy: 0.6922, Validation Accuracy: 0.7193, Loss: 0.3126\n",
      "Epoch   3 Batch  380/538 - Train Accuracy: 0.7266, Validation Accuracy: 0.7172, Loss: 0.3044\n",
      "Epoch   3 Batch  400/538 - Train Accuracy: 0.7232, Validation Accuracy: 0.7111, Loss: 0.3100\n",
      "Epoch   3 Batch  420/538 - Train Accuracy: 0.7494, Validation Accuracy: 0.7154, Loss: 0.3045\n",
      "Epoch   3 Batch  440/538 - Train Accuracy: 0.7277, Validation Accuracy: 0.7292, Loss: 0.3149\n",
      "Epoch   3 Batch  460/538 - Train Accuracy: 0.7186, Validation Accuracy: 0.7411, Loss: 0.2958\n",
      "Epoch   3 Batch  480/538 - Train Accuracy: 0.7502, Validation Accuracy: 0.7173, Loss: 0.2803\n",
      "Epoch   3 Batch  500/538 - Train Accuracy: 0.7647, Validation Accuracy: 0.7367, Loss: 0.2481\n",
      "Epoch   3 Batch  520/538 - Train Accuracy: 0.7352, Validation Accuracy: 0.7413, Loss: 0.2793\n",
      "Epoch   4 Batch   20/538 - Train Accuracy: 0.7744, Validation Accuracy: 0.7303, Loss: 0.2784\n",
      "Epoch   4 Batch   40/538 - Train Accuracy: 0.7624, Validation Accuracy: 0.7479, Loss: 0.2393\n",
      "Epoch   4 Batch   60/538 - Train Accuracy: 0.7416, Validation Accuracy: 0.7553, Loss: 0.2589\n",
      "Epoch   4 Batch   80/538 - Train Accuracy: 0.7490, Validation Accuracy: 0.7322, Loss: 0.2632\n",
      "Epoch   4 Batch  100/538 - Train Accuracy: 0.7816, Validation Accuracy: 0.7429, Loss: 0.2447\n",
      "Epoch   4 Batch  120/538 - Train Accuracy: 0.7738, Validation Accuracy: 0.7315, Loss: 0.2276\n",
      "Epoch   4 Batch  140/538 - Train Accuracy: 0.7152, Validation Accuracy: 0.7299, Loss: 0.2585\n",
      "Epoch   4 Batch  160/538 - Train Accuracy: 0.7401, Validation Accuracy: 0.7349, Loss: 0.2312\n",
      "Epoch   4 Batch  180/538 - Train Accuracy: 0.7783, Validation Accuracy: 0.7536, Loss: 0.2358\n",
      "Epoch   4 Batch  200/538 - Train Accuracy: 0.7641, Validation Accuracy: 0.7740, Loss: 0.2155\n",
      "Epoch   4 Batch  220/538 - Train Accuracy: 0.7502, Validation Accuracy: 0.7456, Loss: 0.2089\n",
      "Epoch   4 Batch  240/538 - Train Accuracy: 0.7512, Validation Accuracy: 0.7585, Loss: 0.2315\n",
      "Epoch   4 Batch  260/538 - Train Accuracy: 0.7290, Validation Accuracy: 0.7491, Loss: 0.2285\n",
      "Epoch   4 Batch  280/538 - Train Accuracy: 0.7796, Validation Accuracy: 0.7461, Loss: 0.2151\n",
      "Epoch   4 Batch  300/538 - Train Accuracy: 0.7708, Validation Accuracy: 0.7795, Loss: 0.2054\n",
      "Epoch   4 Batch  320/538 - Train Accuracy: 0.8054, Validation Accuracy: 0.7908, Loss: 0.2038\n",
      "Epoch   4 Batch  340/538 - Train Accuracy: 0.7754, Validation Accuracy: 0.7711, Loss: 0.2224\n",
      "Epoch   4 Batch  360/538 - Train Accuracy: 0.7293, Validation Accuracy: 0.7727, Loss: 0.2120\n",
      "Epoch   4 Batch  380/538 - Train Accuracy: 0.7746, Validation Accuracy: 0.7828, Loss: 0.2031\n",
      "Epoch   4 Batch  400/538 - Train Accuracy: 0.7600, Validation Accuracy: 0.7727, Loss: 0.2102\n",
      "Epoch   4 Batch  420/538 - Train Accuracy: 0.7916, Validation Accuracy: 0.7724, Loss: 0.2068\n",
      "Epoch   4 Batch  440/538 - Train Accuracy: 0.7857, Validation Accuracy: 0.7868, Loss: 0.2126\n",
      "Epoch   4 Batch  460/538 - Train Accuracy: 0.7615, Validation Accuracy: 0.7912, Loss: 0.1958\n",
      "Epoch   4 Batch  480/538 - Train Accuracy: 0.7805, Validation Accuracy: 0.7537, Loss: 0.1899\n",
      "Epoch   4 Batch  500/538 - Train Accuracy: 0.8093, Validation Accuracy: 0.7745, Loss: 0.1691\n",
      "Epoch   4 Batch  520/538 - Train Accuracy: 0.7598, Validation Accuracy: 0.7876, Loss: 0.1972\n",
      "Epoch   5 Batch   20/538 - Train Accuracy: 0.8173, Validation Accuracy: 0.8159, Loss: 0.1840\n",
      "Epoch   5 Batch   40/538 - Train Accuracy: 0.8008, Validation Accuracy: 0.7992, Loss: 0.1568\n",
      "Epoch   5 Batch   60/538 - Train Accuracy: 0.8025, Validation Accuracy: 0.8068, Loss: 0.1795\n",
      "Epoch   5 Batch   80/538 - Train Accuracy: 0.7830, Validation Accuracy: 0.7969, Loss: 0.1843\n",
      "Epoch   5 Batch  100/538 - Train Accuracy: 0.8201, Validation Accuracy: 0.8059, Loss: 0.1722\n",
      "Epoch   5 Batch  120/538 - Train Accuracy: 0.8148, Validation Accuracy: 0.7781, Loss: 0.1567\n",
      "Epoch   5 Batch  140/538 - Train Accuracy: 0.7760, Validation Accuracy: 0.7857, Loss: 0.1919\n",
      "Epoch   5 Batch  160/538 - Train Accuracy: 0.7976, Validation Accuracy: 0.8168, Loss: 0.1571\n",
      "Epoch   5 Batch  180/538 - Train Accuracy: 0.8231, Validation Accuracy: 0.8088, Loss: 0.1688\n",
      "Epoch   5 Batch  200/538 - Train Accuracy: 0.8088, Validation Accuracy: 0.8088, Loss: 0.1530\n",
      "Epoch   5 Batch  220/538 - Train Accuracy: 0.8105, Validation Accuracy: 0.7965, Loss: 0.1485\n",
      "Epoch   5 Batch  240/538 - Train Accuracy: 0.8100, Validation Accuracy: 0.8182, Loss: 0.1518\n",
      "Epoch   5 Batch  260/538 - Train Accuracy: 0.7982, Validation Accuracy: 0.8233, Loss: 0.1596\n",
      "Epoch   5 Batch  280/538 - Train Accuracy: 0.8365, Validation Accuracy: 0.8097, Loss: 0.1429\n",
      "Epoch   5 Batch  300/538 - Train Accuracy: 0.8272, Validation Accuracy: 0.8409, Loss: 0.1504\n",
      "Epoch   5 Batch  320/538 - Train Accuracy: 0.8434, Validation Accuracy: 0.8176, Loss: 0.1489\n",
      "Epoch   5 Batch  340/538 - Train Accuracy: 0.8256, Validation Accuracy: 0.8553, Loss: 0.1516\n",
      "Epoch   5 Batch  360/538 - Train Accuracy: 0.8162, Validation Accuracy: 0.8422, Loss: 0.1454\n",
      "Epoch   5 Batch  380/538 - Train Accuracy: 0.8375, Validation Accuracy: 0.8322, Loss: 0.1342\n",
      "Epoch   5 Batch  400/538 - Train Accuracy: 0.8294, Validation Accuracy: 0.8501, Loss: 0.1509\n",
      "Epoch   5 Batch  420/538 - Train Accuracy: 0.8689, Validation Accuracy: 0.8510, Loss: 0.1392\n",
      "Epoch   5 Batch  440/538 - Train Accuracy: 0.8303, Validation Accuracy: 0.8475, Loss: 0.1537\n",
      "Epoch   5 Batch  460/538 - Train Accuracy: 0.8330, Validation Accuracy: 0.8372, Loss: 0.1334\n",
      "Epoch   5 Batch  480/538 - Train Accuracy: 0.8597, Validation Accuracy: 0.8333, Loss: 0.1343\n",
      "Epoch   5 Batch  500/538 - Train Accuracy: 0.8750, Validation Accuracy: 0.8580, Loss: 0.1117\n",
      "Epoch   5 Batch  520/538 - Train Accuracy: 0.8467, Validation Accuracy: 0.8528, Loss: 0.1376\n",
      "Epoch   6 Batch   20/538 - Train Accuracy: 0.8570, Validation Accuracy: 0.8718, Loss: 0.1272\n",
      "Epoch   6 Batch   40/538 - Train Accuracy: 0.8809, Validation Accuracy: 0.8732, Loss: 0.1092\n",
      "Epoch   6 Batch   60/538 - Train Accuracy: 0.8645, Validation Accuracy: 0.8674, Loss: 0.1141\n",
      "Epoch   6 Batch   80/538 - Train Accuracy: 0.8709, Validation Accuracy: 0.8636, Loss: 0.1299\n",
      "Epoch   6 Batch  100/538 - Train Accuracy: 0.8684, Validation Accuracy: 0.8624, Loss: 0.1047\n",
      "Epoch   6 Batch  120/538 - Train Accuracy: 0.8906, Validation Accuracy: 0.8880, Loss: 0.1090\n",
      "Epoch   6 Batch  140/538 - Train Accuracy: 0.8406, Validation Accuracy: 0.8775, Loss: 0.1324\n",
      "Epoch   6 Batch  160/538 - Train Accuracy: 0.8690, Validation Accuracy: 0.8652, Loss: 0.1146\n",
      "Epoch   6 Batch  180/538 - Train Accuracy: 0.8692, Validation Accuracy: 0.8702, Loss: 0.1185\n",
      "Epoch   6 Batch  200/538 - Train Accuracy: 0.8762, Validation Accuracy: 0.8612, Loss: 0.1083\n",
      "Epoch   6 Batch  220/538 - Train Accuracy: 0.8769, Validation Accuracy: 0.8782, Loss: 0.1098\n",
      "Epoch   6 Batch  240/538 - Train Accuracy: 0.8750, Validation Accuracy: 0.8968, Loss: 0.1211\n",
      "Epoch   6 Batch  260/538 - Train Accuracy: 0.8428, Validation Accuracy: 0.8576, Loss: 0.1246\n",
      "Epoch   6 Batch  280/538 - Train Accuracy: 0.8761, Validation Accuracy: 0.8642, Loss: 0.1055\n",
      "Epoch   6 Batch  300/538 - Train Accuracy: 0.9010, Validation Accuracy: 0.9150, Loss: 0.1032\n",
      "Epoch   6 Batch  320/538 - Train Accuracy: 0.8834, Validation Accuracy: 0.8720, Loss: 0.0978\n",
      "Epoch   6 Batch  340/538 - Train Accuracy: 0.8734, Validation Accuracy: 0.8949, Loss: 0.1106\n",
      "Epoch   6 Batch  360/538 - Train Accuracy: 0.8816, Validation Accuracy: 0.9015, Loss: 0.1060\n",
      "Epoch   6 Batch  380/538 - Train Accuracy: 0.9037, Validation Accuracy: 0.8963, Loss: 0.0937\n",
      "Epoch   6 Batch  400/538 - Train Accuracy: 0.8897, Validation Accuracy: 0.8947, Loss: 0.1063\n",
      "Epoch   6 Batch  420/538 - Train Accuracy: 0.9135, Validation Accuracy: 0.8913, Loss: 0.0999\n",
      "Epoch   6 Batch  440/538 - Train Accuracy: 0.8865, Validation Accuracy: 0.8984, Loss: 0.1112\n"
     ]
    },
    {
     "name": "stdout",
     "output_type": "stream",
     "text": [
      "Epoch   6 Batch  460/538 - Train Accuracy: 0.8730, Validation Accuracy: 0.8984, Loss: 0.1053\n",
      "Epoch   6 Batch  480/538 - Train Accuracy: 0.9048, Validation Accuracy: 0.8952, Loss: 0.0982\n",
      "Epoch   6 Batch  500/538 - Train Accuracy: 0.9263, Validation Accuracy: 0.8901, Loss: 0.0829\n",
      "Epoch   6 Batch  520/538 - Train Accuracy: 0.8949, Validation Accuracy: 0.8910, Loss: 0.0999\n",
      "Epoch   7 Batch   20/538 - Train Accuracy: 0.9057, Validation Accuracy: 0.8825, Loss: 0.0968\n",
      "Epoch   7 Batch   40/538 - Train Accuracy: 0.9187, Validation Accuracy: 0.8977, Loss: 0.0709\n",
      "Epoch   7 Batch   60/538 - Train Accuracy: 0.9213, Validation Accuracy: 0.8981, Loss: 0.0890\n",
      "Epoch   7 Batch   80/538 - Train Accuracy: 0.9062, Validation Accuracy: 0.8977, Loss: 0.0926\n",
      "Epoch   7 Batch  100/538 - Train Accuracy: 0.9350, Validation Accuracy: 0.9174, Loss: 0.0760\n",
      "Epoch   7 Batch  120/538 - Train Accuracy: 0.9094, Validation Accuracy: 0.9054, Loss: 0.0784\n",
      "Epoch   7 Batch  140/538 - Train Accuracy: 0.8721, Validation Accuracy: 0.9091, Loss: 0.1132\n",
      "Epoch   7 Batch  160/538 - Train Accuracy: 0.8927, Validation Accuracy: 0.8967, Loss: 0.0846\n",
      "Epoch   7 Batch  180/538 - Train Accuracy: 0.9154, Validation Accuracy: 0.9009, Loss: 0.0964\n",
      "Epoch   7 Batch  200/538 - Train Accuracy: 0.9297, Validation Accuracy: 0.9100, Loss: 0.0727\n",
      "Epoch   7 Batch  220/538 - Train Accuracy: 0.9062, Validation Accuracy: 0.9041, Loss: 0.0807\n",
      "Epoch   7 Batch  240/538 - Train Accuracy: 0.9088, Validation Accuracy: 0.9150, Loss: 0.0915\n",
      "Epoch   7 Batch  260/538 - Train Accuracy: 0.8886, Validation Accuracy: 0.9057, Loss: 0.0901\n",
      "Epoch   7 Batch  280/538 - Train Accuracy: 0.9185, Validation Accuracy: 0.9080, Loss: 0.0715\n",
      "Epoch   7 Batch  300/538 - Train Accuracy: 0.9237, Validation Accuracy: 0.9258, Loss: 0.0804\n",
      "Epoch   7 Batch  320/538 - Train Accuracy: 0.9200, Validation Accuracy: 0.9235, Loss: 0.0702\n",
      "Epoch   7 Batch  340/538 - Train Accuracy: 0.8881, Validation Accuracy: 0.9165, Loss: 0.0945\n",
      "Epoch   7 Batch  360/538 - Train Accuracy: 0.9098, Validation Accuracy: 0.9203, Loss: 0.0788\n",
      "Epoch   7 Batch  380/538 - Train Accuracy: 0.9295, Validation Accuracy: 0.9391, Loss: 0.0732\n",
      "Epoch   7 Batch  400/538 - Train Accuracy: 0.9195, Validation Accuracy: 0.9043, Loss: 0.0831\n",
      "Epoch   7 Batch  420/538 - Train Accuracy: 0.9338, Validation Accuracy: 0.9181, Loss: 0.0723\n",
      "Epoch   7 Batch  440/538 - Train Accuracy: 0.9113, Validation Accuracy: 0.9284, Loss: 0.0827\n",
      "Epoch   7 Batch  460/538 - Train Accuracy: 0.8901, Validation Accuracy: 0.9304, Loss: 0.0831\n",
      "Epoch   7 Batch  480/538 - Train Accuracy: 0.9304, Validation Accuracy: 0.9212, Loss: 0.0774\n",
      "Epoch   7 Batch  500/538 - Train Accuracy: 0.9418, Validation Accuracy: 0.9240, Loss: 0.0546\n",
      "Epoch   7 Batch  520/538 - Train Accuracy: 0.9229, Validation Accuracy: 0.9254, Loss: 0.0757\n",
      "Epoch   8 Batch   20/538 - Train Accuracy: 0.9343, Validation Accuracy: 0.9355, Loss: 0.0714\n",
      "Epoch   8 Batch   40/538 - Train Accuracy: 0.9325, Validation Accuracy: 0.9428, Loss: 0.0656\n",
      "Epoch   8 Batch   60/538 - Train Accuracy: 0.9223, Validation Accuracy: 0.9380, Loss: 0.0704\n",
      "Epoch   8 Batch   80/538 - Train Accuracy: 0.9191, Validation Accuracy: 0.9226, Loss: 0.0757\n",
      "Epoch   8 Batch  100/538 - Train Accuracy: 0.9426, Validation Accuracy: 0.9245, Loss: 0.0629\n",
      "Epoch   8 Batch  120/538 - Train Accuracy: 0.9486, Validation Accuracy: 0.9178, Loss: 0.0536\n",
      "Epoch   8 Batch  140/538 - Train Accuracy: 0.9178, Validation Accuracy: 0.9210, Loss: 0.0810\n",
      "Epoch   8 Batch  160/538 - Train Accuracy: 0.9288, Validation Accuracy: 0.9080, Loss: 0.0651\n",
      "Epoch   8 Batch  180/538 - Train Accuracy: 0.9195, Validation Accuracy: 0.9027, Loss: 0.0734\n",
      "Epoch   8 Batch  200/538 - Train Accuracy: 0.9396, Validation Accuracy: 0.9306, Loss: 0.0589\n",
      "Epoch   8 Batch  220/538 - Train Accuracy: 0.9172, Validation Accuracy: 0.9229, Loss: 0.0724\n",
      "Epoch   8 Batch  240/538 - Train Accuracy: 0.9309, Validation Accuracy: 0.9398, Loss: 0.0750\n",
      "Epoch   8 Batch  260/538 - Train Accuracy: 0.8910, Validation Accuracy: 0.9368, Loss: 0.0749\n",
      "Epoch   8 Batch  280/538 - Train Accuracy: 0.9353, Validation Accuracy: 0.9290, Loss: 0.0655\n",
      "Epoch   8 Batch  300/538 - Train Accuracy: 0.9317, Validation Accuracy: 0.9377, Loss: 0.0654\n",
      "Epoch   8 Batch  320/538 - Train Accuracy: 0.9241, Validation Accuracy: 0.9357, Loss: 0.0643\n",
      "Epoch   8 Batch  340/538 - Train Accuracy: 0.9266, Validation Accuracy: 0.9416, Loss: 0.0758\n",
      "Epoch   8 Batch  360/538 - Train Accuracy: 0.9295, Validation Accuracy: 0.9426, Loss: 0.0684\n",
      "Epoch   8 Batch  380/538 - Train Accuracy: 0.9320, Validation Accuracy: 0.9434, Loss: 0.0640\n",
      "Epoch   8 Batch  400/538 - Train Accuracy: 0.9342, Validation Accuracy: 0.9137, Loss: 0.0645\n",
      "Epoch   8 Batch  420/538 - Train Accuracy: 0.9445, Validation Accuracy: 0.9313, Loss: 0.0590\n",
      "Epoch   8 Batch  440/538 - Train Accuracy: 0.9047, Validation Accuracy: 0.9279, Loss: 0.0644\n",
      "Epoch   8 Batch  460/538 - Train Accuracy: 0.9156, Validation Accuracy: 0.9233, Loss: 0.0698\n",
      "Epoch   8 Batch  480/538 - Train Accuracy: 0.9332, Validation Accuracy: 0.9458, Loss: 0.0616\n",
      "Epoch   8 Batch  500/538 - Train Accuracy: 0.9508, Validation Accuracy: 0.9498, Loss: 0.0522\n",
      "Epoch   8 Batch  520/538 - Train Accuracy: 0.9275, Validation Accuracy: 0.9347, Loss: 0.0685\n",
      "Epoch   9 Batch   20/538 - Train Accuracy: 0.9299, Validation Accuracy: 0.9554, Loss: 0.0671\n",
      "Epoch   9 Batch   40/538 - Train Accuracy: 0.9375, Validation Accuracy: 0.9467, Loss: 0.0588\n",
      "Epoch   9 Batch   60/538 - Train Accuracy: 0.9340, Validation Accuracy: 0.9435, Loss: 0.0663\n",
      "Epoch   9 Batch   80/538 - Train Accuracy: 0.9441, Validation Accuracy: 0.9286, Loss: 0.0652\n",
      "Epoch   9 Batch  100/538 - Train Accuracy: 0.9492, Validation Accuracy: 0.9316, Loss: 0.0584\n",
      "Epoch   9 Batch  120/538 - Train Accuracy: 0.9527, Validation Accuracy: 0.9354, Loss: 0.0530\n",
      "Epoch   9 Batch  140/538 - Train Accuracy: 0.9377, Validation Accuracy: 0.9263, Loss: 0.0761\n",
      "Epoch   9 Batch  160/538 - Train Accuracy: 0.9328, Validation Accuracy: 0.9293, Loss: 0.0619\n",
      "Epoch   9 Batch  180/538 - Train Accuracy: 0.9208, Validation Accuracy: 0.9302, Loss: 0.0698\n",
      "Epoch   9 Batch  200/538 - Train Accuracy: 0.9547, Validation Accuracy: 0.9403, Loss: 0.0578\n",
      "Epoch   9 Batch  220/538 - Train Accuracy: 0.9211, Validation Accuracy: 0.9352, Loss: 0.0652\n",
      "Epoch   9 Batch  240/538 - Train Accuracy: 0.9322, Validation Accuracy: 0.9444, Loss: 0.0677\n",
      "Epoch   9 Batch  260/538 - Train Accuracy: 0.8981, Validation Accuracy: 0.9409, Loss: 0.0799\n",
      "Epoch   9 Batch  280/538 - Train Accuracy: 0.9299, Validation Accuracy: 0.9439, Loss: 0.0604\n",
      "Epoch   9 Batch  300/538 - Train Accuracy: 0.9364, Validation Accuracy: 0.9359, Loss: 0.0653\n",
      "Epoch   9 Batch  320/538 - Train Accuracy: 0.9375, Validation Accuracy: 0.9359, Loss: 0.0590\n",
      "Epoch   9 Batch  340/538 - Train Accuracy: 0.9229, Validation Accuracy: 0.9393, Loss: 0.0664\n",
      "Epoch   9 Batch  360/538 - Train Accuracy: 0.9266, Validation Accuracy: 0.9361, Loss: 0.0582\n",
      "Epoch   9 Batch  380/538 - Train Accuracy: 0.9486, Validation Accuracy: 0.9467, Loss: 0.0640\n",
      "Epoch   9 Batch  400/538 - Train Accuracy: 0.9414, Validation Accuracy: 0.9322, Loss: 0.0674\n",
      "Epoch   9 Batch  420/538 - Train Accuracy: 0.9299, Validation Accuracy: 0.9521, Loss: 0.0608\n",
      "Epoch   9 Batch  440/538 - Train Accuracy: 0.9182, Validation Accuracy: 0.9402, Loss: 0.0692\n",
      "Epoch   9 Batch  460/538 - Train Accuracy: 0.9269, Validation Accuracy: 0.9512, Loss: 0.0598\n",
      "Epoch   9 Batch  480/538 - Train Accuracy: 0.9425, Validation Accuracy: 0.9318, Loss: 0.0579\n",
      "Epoch   9 Batch  500/538 - Train Accuracy: 0.9554, Validation Accuracy: 0.9212, Loss: 0.0480\n",
      "Epoch   9 Batch  520/538 - Train Accuracy: 0.9361, Validation Accuracy: 0.9352, Loss: 0.0631\n",
      "Epoch  10 Batch   20/538 - Train Accuracy: 0.9384, Validation Accuracy: 0.9387, Loss: 0.0622\n",
      "Epoch  10 Batch   40/538 - Train Accuracy: 0.9414, Validation Accuracy: 0.9517, Loss: 0.0483\n",
      "Epoch  10 Batch   60/538 - Train Accuracy: 0.9379, Validation Accuracy: 0.9300, Loss: 0.0611\n",
      "Epoch  10 Batch   80/538 - Train Accuracy: 0.9506, Validation Accuracy: 0.9379, Loss: 0.0643\n",
      "Epoch  10 Batch  100/538 - Train Accuracy: 0.9332, Validation Accuracy: 0.9505, Loss: 0.0495\n",
      "Epoch  10 Batch  120/538 - Train Accuracy: 0.9512, Validation Accuracy: 0.9338, Loss: 0.0593\n",
      "Epoch  10 Batch  140/538 - Train Accuracy: 0.9230, Validation Accuracy: 0.9416, Loss: 0.0788\n"
     ]
    },
    {
     "name": "stdout",
     "output_type": "stream",
     "text": [
      "Epoch  10 Batch  160/538 - Train Accuracy: 0.9273, Validation Accuracy: 0.9194, Loss: 0.0609\n",
      "Epoch  10 Batch  180/538 - Train Accuracy: 0.9358, Validation Accuracy: 0.9363, Loss: 0.0623\n",
      "Epoch  10 Batch  200/538 - Train Accuracy: 0.9461, Validation Accuracy: 0.9503, Loss: 0.0534\n",
      "Epoch  10 Batch  220/538 - Train Accuracy: 0.9306, Validation Accuracy: 0.9418, Loss: 0.0526\n",
      "Epoch  10 Batch  240/538 - Train Accuracy: 0.9285, Validation Accuracy: 0.9503, Loss: 0.0611\n",
      "Epoch  10 Batch  260/538 - Train Accuracy: 0.9126, Validation Accuracy: 0.9331, Loss: 0.0676\n",
      "Epoch  10 Batch  280/538 - Train Accuracy: 0.9392, Validation Accuracy: 0.9403, Loss: 0.0465\n",
      "Epoch  10 Batch  300/538 - Train Accuracy: 0.9332, Validation Accuracy: 0.9462, Loss: 0.0512\n",
      "Epoch  10 Batch  320/538 - Train Accuracy: 0.9321, Validation Accuracy: 0.9528, Loss: 0.0511\n",
      "Epoch  10 Batch  340/538 - Train Accuracy: 0.9506, Validation Accuracy: 0.9441, Loss: 0.0604\n",
      "Epoch  10 Batch  360/538 - Train Accuracy: 0.9480, Validation Accuracy: 0.9464, Loss: 0.0528\n",
      "Epoch  10 Batch  380/538 - Train Accuracy: 0.9529, Validation Accuracy: 0.9499, Loss: 0.0563\n",
      "Epoch  10 Batch  400/538 - Train Accuracy: 0.9509, Validation Accuracy: 0.9414, Loss: 0.0626\n",
      "Epoch  10 Batch  420/538 - Train Accuracy: 0.9539, Validation Accuracy: 0.9460, Loss: 0.0535\n",
      "Epoch  10 Batch  440/538 - Train Accuracy: 0.9322, Validation Accuracy: 0.9444, Loss: 0.0618\n",
      "Epoch  10 Batch  460/538 - Train Accuracy: 0.9403, Validation Accuracy: 0.9391, Loss: 0.0632\n",
      "Epoch  10 Batch  480/538 - Train Accuracy: 0.9479, Validation Accuracy: 0.9384, Loss: 0.0556\n",
      "Epoch  10 Batch  500/538 - Train Accuracy: 0.9647, Validation Accuracy: 0.9281, Loss: 0.0468\n",
      "Epoch  10 Batch  520/538 - Train Accuracy: 0.9457, Validation Accuracy: 0.9311, Loss: 0.0571\n",
      "Epoch  11 Batch   20/538 - Train Accuracy: 0.9487, Validation Accuracy: 0.9428, Loss: 0.0628\n",
      "Epoch  11 Batch   40/538 - Train Accuracy: 0.9517, Validation Accuracy: 0.9519, Loss: 0.0462\n",
      "Epoch  11 Batch   60/538 - Train Accuracy: 0.9498, Validation Accuracy: 0.9508, Loss: 0.0560\n",
      "Epoch  11 Batch   80/538 - Train Accuracy: 0.9451, Validation Accuracy: 0.9535, Loss: 0.0553\n",
      "Epoch  11 Batch  100/538 - Train Accuracy: 0.9510, Validation Accuracy: 0.9489, Loss: 0.0411\n",
      "Epoch  11 Batch  120/538 - Train Accuracy: 0.9711, Validation Accuracy: 0.9446, Loss: 0.0375\n",
      "Epoch  11 Batch  140/538 - Train Accuracy: 0.9281, Validation Accuracy: 0.9375, Loss: 0.0780\n",
      "Epoch  11 Batch  160/538 - Train Accuracy: 0.9373, Validation Accuracy: 0.9469, Loss: 0.0539\n",
      "Epoch  11 Batch  180/538 - Train Accuracy: 0.9176, Validation Accuracy: 0.9293, Loss: 0.0609\n",
      "Epoch  11 Batch  200/538 - Train Accuracy: 0.9504, Validation Accuracy: 0.9290, Loss: 0.0568\n",
      "Epoch  11 Batch  220/538 - Train Accuracy: 0.9289, Validation Accuracy: 0.9380, Loss: 0.0591\n",
      "Epoch  11 Batch  240/538 - Train Accuracy: 0.9303, Validation Accuracy: 0.9359, Loss: 0.0639\n",
      "Epoch  11 Batch  260/538 - Train Accuracy: 0.8988, Validation Accuracy: 0.9467, Loss: 0.0674\n",
      "Epoch  11 Batch  280/538 - Train Accuracy: 0.9369, Validation Accuracy: 0.9418, Loss: 0.0521\n",
      "Epoch  11 Batch  300/538 - Train Accuracy: 0.9541, Validation Accuracy: 0.9373, Loss: 0.0585\n",
      "Epoch  11 Batch  320/538 - Train Accuracy: 0.9338, Validation Accuracy: 0.9437, Loss: 0.0527\n",
      "Epoch  11 Batch  340/538 - Train Accuracy: 0.9258, Validation Accuracy: 0.9363, Loss: 0.0551\n",
      "Epoch  11 Batch  360/538 - Train Accuracy: 0.9506, Validation Accuracy: 0.9480, Loss: 0.0581\n",
      "Epoch  11 Batch  380/538 - Train Accuracy: 0.9563, Validation Accuracy: 0.9146, Loss: 0.0574\n",
      "Epoch  11 Batch  400/538 - Train Accuracy: 0.9475, Validation Accuracy: 0.9332, Loss: 0.0677\n",
      "Epoch  11 Batch  420/538 - Train Accuracy: 0.9402, Validation Accuracy: 0.9521, Loss: 0.0586\n",
      "Epoch  11 Batch  440/538 - Train Accuracy: 0.9293, Validation Accuracy: 0.9391, Loss: 0.0620\n",
      "Epoch  11 Batch  460/538 - Train Accuracy: 0.9295, Validation Accuracy: 0.9531, Loss: 0.0665\n",
      "Epoch  11 Batch  480/538 - Train Accuracy: 0.9500, Validation Accuracy: 0.9233, Loss: 0.0600\n",
      "Epoch  11 Batch  500/538 - Train Accuracy: 0.9604, Validation Accuracy: 0.9400, Loss: 0.0456\n",
      "Epoch  11 Batch  520/538 - Train Accuracy: 0.9457, Validation Accuracy: 0.9423, Loss: 0.0634\n",
      "Model Trained and Saved\n"
     ]
    }
   ],
   "source": [
    "\"\"\"\n",
    "DON'T MODIFY ANYTHING IN THIS CELL\n",
    "\"\"\"\n",
    "def get_accuracy(target, logits):\n",
    "    \"\"\"\n",
    "    Calculate accuracy\n",
    "    \"\"\"\n",
    "    max_seq = max(target.shape[1], logits.shape[1])\n",
    "    if max_seq - target.shape[1]:\n",
    "        target = np.pad(\n",
    "            target,\n",
    "            [(0,0),(0,max_seq - target.shape[1])],\n",
    "            'constant')\n",
    "    if max_seq - logits.shape[1]:\n",
    "        logits = np.pad(\n",
    "            logits,\n",
    "            [(0,0),(0,max_seq - logits.shape[1])],\n",
    "            'constant')\n",
    "\n",
    "    return np.mean(np.equal(target, logits))\n",
    "\n",
    "# Split data to training and validation sets\n",
    "train_source = source_int_text[batch_size:]\n",
    "train_target = target_int_text[batch_size:]\n",
    "valid_source = source_int_text[:batch_size]\n",
    "valid_target = target_int_text[:batch_size]\n",
    "(valid_sources_batch, valid_targets_batch, valid_sources_lengths, valid_targets_lengths ) = next(get_batches(valid_source,\n",
    "                                                                                                             valid_target,\n",
    "                                                                                                             batch_size,\n",
    "                                                                                                             source_vocab_to_int['<PAD>'],\n",
    "                                                                                                             target_vocab_to_int['<PAD>']))                                                                                                  \n",
    "with tf.Session(graph=train_graph) as sess:\n",
    "    sess.run(tf.global_variables_initializer())\n",
    "\n",
    "    for epoch_i in range(epochs):\n",
    "        for batch_i, (source_batch, target_batch, sources_lengths, targets_lengths) in enumerate(\n",
    "                get_batches(train_source, train_target, batch_size,\n",
    "                            source_vocab_to_int['<PAD>'],\n",
    "                            target_vocab_to_int['<PAD>'])):\n",
    "\n",
    "            _, loss = sess.run(\n",
    "                [train_op, cost],\n",
    "                {input_data: source_batch,\n",
    "                 targets: target_batch,\n",
    "                 lr: learning_rate,\n",
    "                 target_sequence_length: targets_lengths,\n",
    "                 source_sequence_length: sources_lengths,\n",
    "                 keep_prob: keep_probability})\n",
    "\n",
    "\n",
    "            if batch_i % display_step == 0 and batch_i > 0:\n",
    "\n",
    "\n",
    "                batch_train_logits = sess.run(\n",
    "                    inference_logits,\n",
    "                    {input_data: source_batch,\n",
    "                     source_sequence_length: sources_lengths,\n",
    "                     target_sequence_length: targets_lengths,\n",
    "                     keep_prob: 1.0})\n",
    "\n",
    "\n",
    "                batch_valid_logits = sess.run(\n",
    "                    inference_logits,\n",
    "                    {input_data: valid_sources_batch,\n",
    "                     source_sequence_length: valid_sources_lengths,\n",
    "                     target_sequence_length: valid_targets_lengths,\n",
    "                     keep_prob: 1.0})\n",
    "\n",
    "                train_acc = get_accuracy(target_batch, batch_train_logits)\n",
    "\n",
    "                valid_acc = get_accuracy(valid_targets_batch, batch_valid_logits)\n",
    "\n",
    "                print('Epoch {:>3} Batch {:>4}/{} - Train Accuracy: {:>6.4f}, Validation Accuracy: {:>6.4f}, Loss: {:>6.4f}'\n",
    "                      .format(epoch_i, batch_i, len(source_int_text) // batch_size, train_acc, valid_acc, loss))\n",
    "\n",
    "    # Save Model\n",
    "    saver = tf.train.Saver()\n",
    "    saver.save(sess, save_path)\n",
    "    print('Model Trained and Saved')"
   ]
  },
  {
   "cell_type": "markdown",
   "metadata": {},
   "source": [
    "### Save Parameters\n",
    "Save the `batch_size` and `save_path` parameters for inference."
   ]
  },
  {
   "cell_type": "code",
   "execution_count": 27,
   "metadata": {
    "collapsed": true
   },
   "outputs": [],
   "source": [
    "\"\"\"\n",
    "DON'T MODIFY ANYTHING IN THIS CELL\n",
    "\"\"\"\n",
    "# Save parameters for checkpoint\n",
    "helper.save_params(save_path)"
   ]
  },
  {
   "cell_type": "markdown",
   "metadata": {},
   "source": [
    "# Checkpoint"
   ]
  },
  {
   "cell_type": "code",
   "execution_count": 1,
   "metadata": {
    "collapsed": true
   },
   "outputs": [],
   "source": [
    "\"\"\"\n",
    "DON'T MODIFY ANYTHING IN THIS CELL\n",
    "\"\"\"\n",
    "import tensorflow as tf\n",
    "import numpy as np\n",
    "import helper\n",
    "import problem_unittests as tests\n",
    "\n",
    "_, (source_vocab_to_int, target_vocab_to_int), (source_int_to_vocab, target_int_to_vocab) = helper.load_preprocess()\n",
    "load_path = helper.load_params()"
   ]
  },
  {
   "cell_type": "markdown",
   "metadata": {},
   "source": [
    "## Sentence to Sequence\n",
    "To feed a sentence into the model for translation, you first need to preprocess it.  Implement the function `sentence_to_seq()` to preprocess new sentences.\n",
    "\n",
    "- Convert the sentence to lowercase\n",
    "- Convert words into ids using `vocab_to_int`\n",
    " - Convert words not in the vocabulary, to the `<UNK>` word id."
   ]
  },
  {
   "cell_type": "code",
   "execution_count": 2,
   "metadata": {},
   "outputs": [
    {
     "name": "stdout",
     "output_type": "stream",
     "text": [
      "Tests Passed\n"
     ]
    }
   ],
   "source": [
    "def sentence_to_seq(sentence, vocab_to_int):\n",
    "    \"\"\"\n",
    "    Convert a sentence to a sequence of ids\n",
    "    :param sentence: String\n",
    "    :param vocab_to_int: Dictionary to go from the words to an id\n",
    "    :return: List of word ids\n",
    "    \"\"\"\n",
    "    inputs = [vocab_to_int.get(word.lower(), vocab_to_int['<UNK>']) for word in sentence.split()]\n",
    "    return inputs\n",
    "\n",
    "\n",
    "\"\"\"\n",
    "DON'T MODIFY ANYTHING IN THIS CELL THAT IS BELOW THIS LINE\n",
    "\"\"\"\n",
    "tests.test_sentence_to_seq(sentence_to_seq)"
   ]
  },
  {
   "cell_type": "markdown",
   "metadata": {},
   "source": [
    "## Translate\n",
    "This will translate `translate_sentence` from English to French."
   ]
  },
  {
   "cell_type": "code",
   "execution_count": 5,
   "metadata": {},
   "outputs": [
    {
     "name": "stdout",
     "output_type": "stream",
     "text": [
      "INFO:tensorflow:Restoring parameters from checkpoints/dev\n",
      "Input\n",
      "  Word Ids:      [178, 111, 176, 190, 143, 212, 97]\n",
      "  English Words: ['he', 'saw', 'a', 'old', 'yellow', 'truck', '.']\n",
      "\n",
      "Prediction\n",
      "  Word Ids:      [350, 160, 279, 239, 175, 184, 233, 128, 1]\n",
      "  French Words: il a vu un vieux camion jaune . <EOS>\n"
     ]
    }
   ],
   "source": [
    "translate_sentence = 'he saw a old yellow truck .'\n",
    "\n",
    "\n",
    "\"\"\"\n",
    "DON'T MODIFY ANYTHING IN THIS CELL\n",
    "\"\"\"\n",
    "translate_sentence = sentence_to_seq(translate_sentence, source_vocab_to_int)\n",
    "\n",
    "loaded_graph = tf.Graph()\n",
    "with tf.Session(graph=loaded_graph) as sess:\n",
    "    # Load saved model\n",
    "    loader = tf.train.import_meta_graph(load_path + '.meta')\n",
    "    loader.restore(sess, load_path)\n",
    "\n",
    "    input_data = loaded_graph.get_tensor_by_name('input:0')\n",
    "    logits = loaded_graph.get_tensor_by_name('predictions:0')\n",
    "    target_sequence_length = loaded_graph.get_tensor_by_name('target_sequence_length:0')\n",
    "    source_sequence_length = loaded_graph.get_tensor_by_name('source_sequence_length:0')\n",
    "    keep_prob = loaded_graph.get_tensor_by_name('keep_prob:0')\n",
    "\n",
    "    translate_logits = sess.run(logits, {input_data: [translate_sentence]*batch_size,\n",
    "                                         target_sequence_length: [len(translate_sentence)*2]*batch_size,\n",
    "                                         source_sequence_length: [len(translate_sentence)]*batch_size,\n",
    "                                         keep_prob: 1.0})[0]\n",
    "\n",
    "print('Input')\n",
    "print('  Word Ids:      {}'.format([i for i in translate_sentence]))\n",
    "print('  English Words: {}'.format([source_int_to_vocab[i] for i in translate_sentence]))\n",
    "\n",
    "print('\\nPrediction')\n",
    "print('  Word Ids:      {}'.format([i for i in translate_logits]))\n",
    "print('  French Words: {}'.format(\" \".join([target_int_to_vocab[i] for i in translate_logits])))\n"
   ]
  },
  {
   "cell_type": "markdown",
   "metadata": {},
   "source": [
    "## Imperfect Translation\n",
    "You might notice that some sentences translate better than others.  Since the dataset you're using only has a vocabulary of 227 English words of the thousands that you use, you're only going to see good results using these words.  For this project, you don't need a perfect translation. However, if you want to create a better translation model, you'll need better data.\n",
    "\n",
    "You can train on the [WMT10 French-English corpus](http://www.statmt.org/wmt10/training-giga-fren.tar).  This dataset has more vocabulary and richer in topics discussed.  However, this will take you days to train, so make sure you've a GPU and the neural network is performing well on dataset we provided.  Just make sure you play with the WMT10 corpus after you've submitted this project.\n",
    "## Submitting This Project\n",
    "When submitting this project, make sure to run all the cells before saving the notebook. Save the notebook file as \"dlnd_language_translation.ipynb\" and save it as a HTML file under \"File\" -> \"Download as\". Include the \"helper.py\" and \"problem_unittests.py\" files in your submission."
   ]
  },
  {
   "cell_type": "code",
   "execution_count": null,
   "metadata": {
    "collapsed": true
   },
   "outputs": [],
   "source": []
  }
 ],
 "metadata": {
  "anaconda-cloud": {},
  "kernelspec": {
   "display_name": "Python 3",
   "language": "python",
   "name": "python3"
  },
  "language_info": {
   "codemirror_mode": {
    "name": "ipython",
    "version": 3
   },
   "file_extension": ".py",
   "mimetype": "text/x-python",
   "name": "python",
   "nbconvert_exporter": "python",
   "pygments_lexer": "ipython3",
   "version": "3.5.3"
  }
 },
 "nbformat": 4,
 "nbformat_minor": 1
}
